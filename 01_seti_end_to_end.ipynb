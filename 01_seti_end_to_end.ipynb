{
 "cells": [
  {
   "cell_type": "markdown",
   "metadata": {},
   "source": [
    "# Evaluating narrowband SETI end-to-end detection performance\n",
    "This notebook does the following:\n",
    "1) Inputs a single RAW file \n",
    "2) Runs Rawspec to generate a filterbank .h5 spectrogram file with specified fine FFT size and integration factor\n",
    "3) Runs TurboSETI and/or seticore and compiles a list of detections and compute time (wall clock)\n",
    "\n",
    "A RAW file with multiple simultaneous drifting signals may be input to examine how SNR depends on drift rate. This may be generated separately by the notebook \"00_multichirp_raw_file_gen.ipynb\".\n",
    "\n",
    "This notebook may be called by another notebook to sweep parameters and compare detection performance (detection SNR values)\n",
    "\n",
    "This script is set up to look in a backup directory (raw_backup_base_dir + raw_backup_subdir) if the raw file is not found in the primary one (raw_dir)."
   ]
  },
  {
   "cell_type": "code",
   "execution_count": 1,
   "metadata": {},
   "outputs": [],
   "source": [
    "import sys\n",
    "import os\n",
    "import subprocess\n",
    "\n",
    "%matplotlib inline\n",
    "import matplotlib.pyplot as plt\n",
    "params = {'legend.fontsize': 'medium',\n",
    "          'figure.figsize': (10,6),\n",
    "         'axes.labelsize': 'large',\n",
    "         'axes.titlesize':'large',\n",
    "         'xtick.labelsize':'large',\n",
    "         'ytick.labelsize':'large'}\n",
    "plt.rcParams.update(params)\n",
    "\n",
    "import src.plot_fns as pltg             # generic plot fns\n",
    "import src.plot_h5_psd_sg1 as plt_h5    # blimpy-based plot fns\n",
    "\n",
    "import math\n",
    "import numpy as np\n",
    "from astropy import units as u\n",
    "import blimpy as bl\n",
    "import time\n",
    "import pandas\n",
    "\n",
    "from pathlib import Path\n",
    "\n",
    "# sys.path.append(os.getenv('SETIGEN_PATH'))\n",
    "\n",
    "# import setigen as stg\n",
    "\n",
    "output_dir = os.getenv('DATADIR') + '/'\n",
    "if not os.path.isdir(output_dir[0:-1]):\n",
    "    os.system('mkdir '+output_dir[0:-1])\n",
    "\n",
    "raw_dir = os.getenv('RAWDIR') + '/'\n",
    "if not os.path.isdir(raw_dir[0:-1]):\n",
    "    os.system('mkdir '+raw_dir[0:-1])\n",
    "\n",
    "raw_backup_base_dir = os.getenv('RAW_BACKUP_BASE_DIR') + '/'\n",
    "\n",
    "sg_dir = os.getenv('SGDIR') + '/'\n",
    "if not os.path.isdir(sg_dir[0:-1]):\n",
    "    os.system('mkdir '+sg_dir[0:-1])\n",
    "\n",
    "output_dir = sg_dir\n",
    "\n",
    "def db(x):\n",
    "    \"\"\" Convert linear value to dB value \"\"\"\n",
    "    return 10*np.log10(np.abs(x.astype(np.float64))+1e-20)\n",
    "\n",
    "def wt_avg(snr_db,drift,sigma_drift):\n",
    "    \"\"\" Probability-weighted SNR average according to drift rate \"\"\"\n",
    "    wt_avg1 = np.zeros(len(sigma_drift))\n",
    "    sigma_drift1 = sigma_drift.astype(np.float64)\n",
    "    for idx,sigma1 in enumerate(sigma_drift1):\n",
    "        w = np.exp(-0.5*(drift.astype(np.float64)/sigma1)**2)\n",
    "        wt_avg1[idx] = np.dot(snr_db,w)/np.sum(w)\n",
    "    return wt_avg1\n",
    "\n",
    "def file_name_mjd(raw_file_stem):\n",
    "    # specific to guppi file naming conventions\n",
    "    stem_parts = raw_file_stem.split('_')\n",
    "    if (len(stem_parts)<4):\n",
    "         mjd_int = 99999\n",
    "    elif (stem_parts[1]=='guppi'):\n",
    "        mjd_int = int(stem_parts[2])\n",
    "    elif (stem_parts[2]=='guppi'):\n",
    "        mjd_int = int(stem_parts[3])\n",
    "    else:\n",
    "        mjd_int = 99999\n",
    "    #print(mjd_int)   \n",
    "    return mjd_int\n",
    "\n",
    "def get_SC2_branch():\n",
    "    branch_string = subprocess.check_output('git -C $SC2 status -b -s', shell=True).decode(\"utf-8\")\n",
    "    parts = branch_string[3:-1].split('.')\n",
    "    branch = parts[0]\n",
    "    return branch\n"
   ]
  },
  {
   "cell_type": "code",
   "execution_count": 2,
   "metadata": {},
   "outputs": [
    {
     "name": "stdout",
     "output_type": "stream",
     "text": [
      "Parameters are undefined, using defaults\n",
      "\n"
     ]
    }
   ],
   "source": [
    "try:\n",
    "    parameters_are_undefined\n",
    "except NameError:\n",
    "    parameters_are_undefined = True     \n",
    "    print('Parameters are undefined, using defaults\\n')\n"
   ]
  },
  {
   "cell_type": "code",
   "execution_count": 3,
   "metadata": {},
   "outputs": [],
   "source": [
    "# Sometimes it can be necessary to re-run this command for plots to show automatically\n",
    "%matplotlib inline"
   ]
  },
  {
   "cell_type": "markdown",
   "metadata": {},
   "source": [
    "#### Parameter setup for seticore and turboseti runs\n",
    "Need to be sure proper seticore2 branch is set up and compiled (e.g. \"git checkout sc2\", \"git status\", \"meson compile\"), and indicated here"
   ]
  },
  {
   "cell_type": "code",
   "execution_count": 4,
   "metadata": {},
   "outputs": [
    {
     "name": "stdout",
     "output_type": "stream",
     "text": [
      "sc2\n"
     ]
    }
   ],
   "source": [
    "branch = get_SC2_branch()\n",
    "print(branch)"
   ]
  },
  {
   "cell_type": "markdown",
   "metadata": {},
   "source": [
    "Note: test_case appears in plots and plot names, and can be set to the branch name or arbitrary string"
   ]
  },
  {
   "cell_type": "code",
   "execution_count": 5,
   "metadata": {},
   "outputs": [
    {
     "name": "stdout",
     "output_type": "stream",
     "text": [
      "test_case='sc2'\n",
      "search_app_name='seticore2', search_z_threshold=20\n"
     ]
    }
   ],
   "source": [
    "\n",
    "\n",
    "test_case = branch\n",
    "# test_case = 'iac24'\n",
    "# test_case = 'iac24managed'\n",
    "# test_case = 'sc0'\n",
    "# test_case = 'sc1'\n",
    "# test_case = 'sc2'\n",
    "# test_case = 'sc2a'\n",
    "# test_case = 'sc2b'\n",
    "\n",
    "print(f'{test_case=}')\n",
    "\n",
    "if ('iac' in test_case):\n",
    "    search_app_name = 'seticore'\n",
    "    search_app_string = 'Seticore'\n",
    "    search_z_threshold = 10\n",
    "else:\n",
    "    search_app_name = 'seticore2'\n",
    "    search_app_string = 'Seticore'\n",
    "\n",
    "if ('sc0' in test_case):\n",
    "    search_z_threshold = 10\n",
    "else:\n",
    "    search_z_threshold = 20\n",
    "\n",
    "min_abs_drift_Hz_sec = .04\n",
    "\n",
    "print(f'{search_app_name=}, {search_z_threshold=}')\n",
    "\n",
    "do_profile = False"
   ]
  },
  {
   "cell_type": "code",
   "execution_count": null,
   "metadata": {},
   "outputs": [
    {
     "name": "stdout",
     "output_type": "stream",
     "text": [
      "/home/kmh4005/data_files/raw_files/blc3_guppi_57386_VOYAGER1_0004.0000.raw\n",
      "Raw file found in backup directory, no copy, read directly\n",
      "/mnt/d/data_files/raw_voyager/blc3_guppi_57386_VOYAGER1_0004.0000.raw\n"
     ]
    }
   ],
   "source": [
    "if parameters_are_undefined:\n",
    "    display_figs01 = True\n",
    "    plot_dets1 = True\n",
    "    plot_dets2 = True\n",
    "    verbose = True\n",
    "    plot_sg_psd_zoom = True\n",
    "    plot_psd_zoom = False\n",
    "    plot_sg_zoom = False\n",
    "    plot_sg_wb = True\n",
    "    plot_psd_wb = True\n",
    "    zoom_bw_MHz = .012  # +/- 6 KHz\n",
    "    max_n_zoom_plots = 50\n",
    "\n",
    "    run_turbo = False\n",
    "    fb_ext = '.h5'\n",
    "\n",
    "    search_max_drift = 10    # Hz/sec\n",
    "    search_min_drift = -10   # ignored except for plotting\n",
    "\n",
    "    delete_raw_file_enable = True   # =True will delete raw file from $RAWDIR, if not present initially in $RAWDIR,\n",
    "                                    # and copied from $RAW_BACKUP_BASE_DIR/raw_backup_subdir\n",
    "                                    # =False will keep raw file in $RAWDIR regardless\n",
    "    delete_h5_sg_file = True        # =True h5 sg file will be deleted after finishing (reduce file space in $SGDIR)\n",
    "\n",
    "    enable_raw_backup_copy = False  # =True copy to $RAWDIR if needed from $RAW_BACKUP_BASE_DIR/raw_backup_subdir\n",
    "                                    # =False rawspec will read directly from $RAW_BACKUP_BASE_DIR/raw_backup_subdir without file copy\n",
    "    \n",
    "    if (0):\n",
    "        raw_backup_subdir = 'raw_multichirp/'\n",
    "        raw_file_stem = 'gbt-chirp80-0.0040V-6002.20-6003.80-m10.0-10.0-Hzsec-366.50sec'  # seticore runs out of memory for n_sti=1\n",
    "        # raw_file_stem = 'gbt-chirp80-0.0040V-6002.20-6003.80-m10.0-10.0-Hzsec-183.25sec'\n",
    "        # raw_file_stem = 'gbt-chirp80-0.0040V-6002.20-6003.80-m10.0-10.0-Hzsec-91.63sec'\n",
    "        # raw_file_stem = 'gbt-chirp80-0.0040V-6002.20-6003.80-m10.0-10.0-Hzsec-45.81sec'\n",
    "        # raw_file_stem = 'gbt-chirp80-0.0040V-6002.20-6003.80-m10.0-10.0-Hzsec-22.91sec'\n",
    "        raw_file_stem = 'gbt-chirp80-0.0020V-6002.20-6003.80-m10.0-10.0-Hzsec-366.50sec'  \n",
    "        raw_file_stem = 'gbt-chirp80-0.0020V-6002.20-6003.80-m10.0-10.0-Hzsec-183.25sec'\n",
    "        raw_file_stem = 'gbt-chirp80-0.0020V-6002.20-6003.80-m10.0-10.0-Hzsec-91.63sec'\n",
    "        raw_file_stem = 'gbt-chirp80-0.0020V-6002.20-6003.80-m10.0-10.0-Hzsec-45.81sec'\n",
    "        raw_file_stem = 'gbt-chirp80-0.0020V-6002.20-6003.80-m10.0-10.0-Hzsec-22.91sec'\n",
    "        # raw_file_stem = 'gbt-chirp80-0.0010V-6002.20-6003.80-m10.0-10.0-Hzsec-22.91sec'\n",
    "        # fine_fft_size = 1024*1024*2\n",
    "        fine_fft_size = 1024*1024\n",
    "        n_sti = 4\n",
    "        # n_sti = 32\n",
    "        plot_sg_psd_zoom = False\n",
    "        enable_raw_backup_copy = True\n",
    "        delete_raw_file_enable = False\n",
    "    elif(0):\n",
    "        raw_backup_subdir = 'raw_multichirp/'\n",
    "        raw_file_stem = 'meerkat-chirp80-0.0040V-1502.23-1502.77-m10.0-10.0-Hzsec-321.49sec'\n",
    "        fine_fft_size = 512*1024\n",
    "        n_sti = 2\n",
    "        plot_sg_psd_zoom = False\n",
    "        enable_raw_backup_copy = True\n",
    "        delete_raw_file_enable = False\n",
    "    elif(0):\n",
    "        raw_backup_subdir = 'raw_multichirp/'\n",
    "        if (1):\n",
    "            raw_file_stem = 'cosmic-chirp80-0.0040V-1401.70-1402.30-m10.0-10.0-Hzsec-67.11sec'\n",
    "        else:\n",
    "            raw_file_stem = 'cosmic-chirp80-0.0040V-1401.70-1402.30-m50.0-50.0-Hzsec-67.11sec'\n",
    "            search_max_drift = 50    # Hz/sec\n",
    "            search_min_drift = -50   # ignored except for plotting\n",
    "        fine_fft_size = 512*1024\n",
    "        n_sti = 1\n",
    "        plot_sg_psd_zoom = False\n",
    "        enable_raw_backup_copy = True\n",
    "        delete_raw_file_enable = False\n",
    "    elif(0):\n",
    "        raw_backup_subdir = 'raw_voyager/'\n",
    "        raw_file_stem = 'blc23_guppi_59046_80036_DIAG_VOYAGER-1_0011' # 24.4 dB, -.279 Hz/sec\n",
    "        # raw_file_stem = 'blc23_guppi_59046_80354_DIAG_VOYAGER-1_0012' # no det for 0000\n",
    "        # raw_file_stem = 'blc23_guppi_59046_80672_DIAG_VOYAGER-1_0013' # 20.93 dB, -.52 Hz/sec\n",
    "        # raw_file_stem = 'blc23_guppi_59046_80989_DIAG_VOYAGER-1_0014' # no det for 0000\n",
    "        # raw_file_stem = 'blc23_guppi_59046_81310_DIAG_VOYAGER-1_0015' # 26 dB, -.44 Hz/sec Up to 14 files!\n",
    "        # raw_file_stem = 'blc23_guppi_59046_81628_DIAG_VOYAGER-1_0016' # no det for 0000\n",
    "        # raw_file_stem = 'blc2_2bit_guppi_57396_VOYAGER1_0004'  # can't read 2-bit samples\n",
    "        fine_fft_size = 1024*1024\n",
    "        n_sti = 4\n",
    "        zoom_bw_MHz = .100\n",
    "        # enable_raw_backup_copy = True     # keep raw file local\n",
    "        # delete_raw_file_enable = False\n",
    "    elif(1):\n",
    "        raw_backup_subdir = 'raw_voyager/'\n",
    "        raw_file_stem = 'blc3_guppi_57386_VOYAGER1_0004'  # 8568.75 MHz, not 8420\n",
    "        fine_fft_size = 1033216     # =1024*1009, believe it or not\n",
    "        n_sti = 4                   # n_sti=4 -> h5 size = 3.4 GB\n",
    "        zoom_bw_MHz = .100\n",
    "    elif(0):\n",
    "        raw_backup_subdir = 'raw_gbt_57388_HIP/'\n",
    "        raw_file_stem = 'blc1_guppi_57388_HIP113357_0010' # 1969 MHz\n",
    "        # raw_file_stem = 'blc2_guppi_57388_HIP113357_0010' # 1781 MHz\n",
    "        # raw_file_stem = 'blc3_guppi_57388_HIP113357_0010' # 1594 MHz\n",
    "        # raw_file_stem = 'blc4_guppi_57388_HIP113357_0010' # 1406 MHz\n",
    "        # raw_file_stem = 'blc5_guppi_57388_HIP113357_0010' # 1219 MHz\n",
    "        # raw_file_stem = 'blc6_guppi_57388_HIP113357_0010' # 1031 MHz\n",
    "        fine_fft_size = 1033216     # =1024*1009, believe it or not\n",
    "        n_sti = 4                   # n_sti=4 -> h5 size = 3.4 GB\n",
    "    elif(1):\n",
    "        raw_backup_subdir = 'raw_gbt_59103_Kepler/'\n",
    "        raw_file_stem = 'blc40_guppi_59103_01984_DIAG_KEPLER-160_0010' # 2158 MHz 89 hits!\n",
    "        # raw_file_stem = 'blc41_guppi_59103_01984_DIAG_KEPLER-160_0010' # 1970 MHz\n",
    "        # raw_file_stem = 'blc42_guppi_59103_01984_DIAG_KEPLER-160_0010' # 1782 MHz\n",
    "        # raw_file_stem = 'blc43_guppi_59103_01984_DIAG_KEPLER-160_0010' # 1595 MHz\n",
    "        # raw_file_stem = 'blc44_guppi_59103_01984_DIAG_KEPLER-160_0010' # 1408 MHz\n",
    "        # raw_file_stem = 'blc45_guppi_59103_01984_DIAG_KEPLER-160_0010' # 1220 MHz\n",
    "        # raw_file_stem = 'blc46_guppi_59103_01984_DIAG_KEPLER-160_0010' # 1033 MHz\n",
    "        # raw_file_stem = 'blc47_guppi_59103_01984_DIAG_KEPLER-160_0010' # 845 MHz\n",
    "        # raw_file_stem = 'blc40_guppi_59103_01984_DIAG_KEPLER-160_0010.0001' # 2158 MHz\n",
    "        fine_fft_size = 1024*1024\n",
    "        n_sti = 4\n",
    "    fig_dir = 'plots/'\n",
    "    \n",
    "isChirp = raw_file_stem.lower().find('chirp')>=0\n",
    "isVoyager = raw_file_stem.lower().find('voyager')>=0\n",
    "isguppi = raw_file_stem.lower().find('guppi')>=0\n",
    "\n",
    "t_e2e_start = time.time()\n",
    "\n",
    "if run_turbo:\n",
    "    search_app_name = 'turboSETI'\n",
    "    search_app_string = 'turboSETI'\n",
    "    search_z_threshold = 10\n",
    "    run_seticore = False\n",
    "else:\n",
    "    run_seticore = True\n",
    "\n",
    "delete_raw_file = False    \n",
    "raw_file_base_name = raw_dir + raw_file_stem + '.0000.raw'\n",
    "raw_file_delete_spec = raw_dir + raw_file_stem + '.00*.raw'\n",
    "\n",
    "local_raw_file_found = False\n",
    "print(raw_file_base_name)\n",
    "if os.path.isfile(raw_file_base_name): \n",
    "    print('Raw file found in raw directory')\n",
    "    local_raw_file_found = True\n",
    "else:\n",
    "    raw_file_backup_name = raw_backup_base_dir + raw_backup_subdir + raw_file_stem + '.0000.raw'\n",
    "    raw_file_backup_spec = raw_backup_base_dir + raw_backup_subdir + raw_file_stem + '.00*.raw'\n",
    "    if os.path.isfile(raw_file_backup_name): \n",
    "        if enable_raw_backup_copy:\n",
    "            print('Raw file found in backup directory, copying')\n",
    "            t1 = time.time()\n",
    "            if (1):     # single raw file .0000.raw\n",
    "                print(raw_file_backup_name)\n",
    "                os.system('cp '+raw_file_backup_name+' '+raw_dir)\n",
    "                os.system('chmod 666 '+raw_dir+'*.raw')  # remove read-only spec from raw_dir\n",
    "            else:       # multi raw file .00xx.raw\n",
    "                os.system('ls '+raw_file_backup_spec)\n",
    "                os.system('cp '+raw_file_backup_spec+' '+raw_dir)\n",
    "                os.system('chmod 666 '+raw_dir+'*.raw')  # remove read-only spec from raw_dir\n",
    "            t_copy = time.time() - t1\n",
    "            print(f'Copy complete, {t_copy=:.2f} sec\\n')\n",
    "            os.system('ls -lsah '+raw_dir+'*.raw')\n",
    "            delete_raw_file = delete_raw_file_enable\n",
    "        else:\n",
    "            print('Raw file found in backup directory, no copy, read directly')\n",
    "            print(raw_file_backup_name)\n",
    "            raw_dir = raw_backup_base_dir + raw_backup_subdir\n",
    "            raw_file_base_name = raw_dir + raw_file_stem + '.0000.raw'\n",
    "            delete_raw_file = False\n",
    "    else:\n",
    "        print('Raw file not found in backup directory, skip')\n",
    "        print(raw_file_backup_name)\n",
    "        # stop, or return to calling notebook/script\n",
    "        assert(False)\n",
    "\n",
    "\n"
   ]
  },
  {
   "cell_type": "code",
   "execution_count": 7,
   "metadata": {},
   "outputs": [],
   "source": [
    "mjd_int = file_name_mjd(raw_file_stem)\n",
    "if (mjd_int < 58000):\n",
    "    if (fine_fft_size%1009 > 0):\n",
    "        print(f'Warning: {fine_fft_size=} doesn''t evenly divide block size for early raw files\\n')\n"
   ]
  },
  {
   "cell_type": "code",
   "execution_count": 8,
   "metadata": {},
   "outputs": [
    {
     "name": "stdout",
     "output_type": "stream",
     "text": [
      "blc3_guppi_57386_VOYAGER1_0004\n",
      "['blc3_guppi_57386_VOYAGER1_0004']\n",
      "signal_level = 0.0, n_chirp = 2\n",
      "f_start1_MHz = nan, f_stop1_MHz = nan,  f_start_incr = nan, df_dt_incr = 20.0\n",
      "f_start_truth[0] = nan f_start_truth[-1] = nan\n",
      "drift_rate_truth[0] = -10.0 drift_rate_truth[-1] = 10.0\n"
     ]
    }
   ],
   "source": [
    "print(raw_file_stem)\n",
    "raw_parts_list = raw_file_stem.split('-')\n",
    "print(raw_parts_list)\n",
    "\n",
    "if (isChirp):\n",
    "    telescope = raw_parts_list[0]\n",
    "    signal_level = float(raw_parts_list[2][0:-1])\n",
    "    n_chirp = int(raw_parts_list[1][5:])\n",
    "    f_start1_MHz = float(raw_parts_list[3])\n",
    "    f_stop1_MHz = float(raw_parts_list[4])\n",
    "    if (raw_parts_list[5][0]=='m'):\n",
    "        sig_min_drift = -float(raw_parts_list[5][1:])  # remove minus sign with 'm' for negative drift limits in raw file name\n",
    "    else:\n",
    "        sig_min_drift = float(raw_parts_list[5])\n",
    "    if (raw_parts_list[6][0]=='m'):\n",
    "        sig_max_drift = -float(raw_parts_list[6][1:])  # remove minus sign with 'm' for negative drift limits in raw file name\n",
    "    else:\n",
    "        sig_max_drift = float(raw_parts_list[6])\n",
    "    print(f'{n_chirp = } {f_start1_MHz = } {f_stop1_MHz = } {sig_min_drift = } {sig_max_drift = }')\n",
    "        \n",
    "\n",
    "elif(isVoyager):\n",
    "    telescope = ''\n",
    "    signal_level = 0.\n",
    "    n_chirp = 2\n",
    "    if (0):\n",
    "        delta_f1_MHz = 1.5\n",
    "        f_start1_MHz = 8420.432 - delta_f1_MHz\n",
    "        f_stop1_MHz = 8420.432 + delta_f1_MHz\n",
    "    else:\n",
    "        delta_f1_MHz = np.nan\n",
    "        f_start1_MHz = np.nan\n",
    "        f_stop1_MHz = np.nan\n",
    "\n",
    "    sig_min_drift = search_min_drift\n",
    "    sig_max_drift = search_max_drift\n",
    "elif(isguppi):\n",
    "    telescope = ''\n",
    "    signal_level = 0.\n",
    "    n_chirp = 2\n",
    "    delta_f1_MHz = np.nan\n",
    "    f_start1_MHz = np.nan\n",
    "    f_stop1_MHz = np.nan\n",
    "    \n",
    "    sig_min_drift = search_min_drift\n",
    "    sig_max_drift = search_max_drift\n",
    "    \n",
    "\n",
    "f_start_truth = np.linspace(f_start1_MHz*1e6,f_stop1_MHz*1e6,n_chirp)\n",
    "drift_rate_truth = np.linspace(sig_min_drift,sig_max_drift,n_chirp)\n",
    "f_start_incr = f_start_truth[1]-f_start_truth[0]\n",
    "df_dt_incr = drift_rate_truth[1]-drift_rate_truth[0]\n",
    "\n",
    "if verbose:\n",
    "    print(f'{signal_level = }, {n_chirp = }')\n",
    "    print(f'{f_start1_MHz = }, {f_stop1_MHz = }, { f_start_incr = }, {df_dt_incr = }')\n",
    "    print(f'{f_start_truth[0] = } {f_start_truth[-1] = }')\n",
    "    print(f'{drift_rate_truth[0] = } {drift_rate_truth[-1] = }')\n",
    "\n",
    " \n"
   ]
  },
  {
   "cell_type": "markdown",
   "metadata": {},
   "source": [
    "#### Obtain run parameters from raw files and fine_fft_size and n_sti parameters"
   ]
  },
  {
   "cell_type": "code",
   "execution_count": 9,
   "metadata": {},
   "outputs": [
    {
     "name": "stdout",
     "output_type": "stream",
     "text": [
      "raw_file_name='/mnt/d/data_files/raw_voyager/blc3_guppi_57386_VOYAGER1_0004.0000.raw' found, n_blocks_incr=128, n_blocks=128\n",
      "raw_file_name='/mnt/d/data_files/raw_voyager/blc3_guppi_57386_VOYAGER1_0004.0001.raw' not found, n_raw_files=1, Total blocks=128\n",
      "raw_file_base_name = '/mnt/d/data_files/raw_voyager/blc3_guppi_57386_VOYAGER1_0004.0000.raw'\n",
      "Raw file found\n",
      "Raw File size =  16145 MB, n_raw_files = 1\n",
      "expected_file_size = 16144.0 MB excl header\n",
      "\n",
      "GBT     , Wed Dec 30 15:45:27 2015, mjd_day=57386, VOYAGER1, ra_deg = 257.995, dec_deg = 11.949\n",
      "ctr_freq_MHz = 8493.750, obs_bw_MHz = 187.5, f_min_MHz = 8400.000, f_max_MHz = 8587.500\n",
      "\n",
      "t_obs = 22.571, n_antennas = 1, n_coarse_channels = 64, n_pols = 2, n_bits = 8, chan_bw = 2929687.500\n",
      "fs_coarse = 2929687.500, fine_fft_size = 1033216, n_sti = 4, n_lti = 16.0, n_avg = 64.0\n",
      "t_coarse = 3.413e-07, t_fine = 0.353, t_res = 1.411\n",
      "fs_coarse = 2929687.500, fs_fine = 2.836\n",
      "n_coarse_samples = 66125824.0, n_fine_samples = 64.0\n",
      "samples_per_block = 516608.0, n_blocks = 128, n_blocks_base = 128, block_size = 132251648, obs_time_per_block = 0.176\n",
      "\n",
      "{'raw_file_stem': 'blc3_guppi_57386_VOYAGER1_0004', 'raw_size_MB': 16144.78125, 'n_raw_files': 1, 'telescop': 'GBT     ', 'time_string': 'Wed Dec 30 15:45:27 2015', 'mjd_day': 57386, 'src_name': 'VOYAGER1', 'ra_deg': 257.9947, 'dec_deg': 11.9493, 'ctr_freq_MHz': 8493.75, 'obs_bw_MHz': 187.5, 'obs_bw_sign': 1, 'f_min_MHz': 8400.0, 'f_max_MHz': 8587.5, 't_obs': 22.57094792531129, 'n_antennas': 1, 'n_coarse_channels': 64, 'n_pols': 2, 'n_bits': 8, 'chan_bw': 2929687.5, 'fs_coarse': 2929687.500002861, 'fine_fft_size': 1033216, 'n_sti': 4, 'n_lti': 16.0, 'n_avg': 64.0, 't_coarse': 3.41333333333e-07, 't_fine': 0.3526710613329889, 't_res': 1.4106842453319557, 'n_coarse_samples': 66125824.0, 'n_fine_samples': 64.0, 'fs_fine': 2.835503418455445, 'samples_per_block': 516608.0, 'n_blocks': 128, 'n_blocks_base': 128, 'block_size': 132251648, 'obs_time_per_block': 0.17633553066649446, 'raw_dir': '/mnt/d/data_files/raw_voyager/'}\n"
     ]
    }
   ],
   "source": [
    "import src.get_raw_info as raw\n",
    "p = raw.get_run_params(raw_file_stem,raw_dir,fine_fft_size,n_sti)\n",
    "print(p)\n",
    "# exec(open(\"src/get_raw_info.py\").read())\n",
    "# copy p entries into local variables\n",
    "# %run -i \"src/raw_info_script.py\"\n",
    "n_lti = p['n_lti']\n",
    "n_sti = p['n_sti']\n",
    "n_avg = p['n_avg']\n",
    "\n",
    "if (n_lti<=2):\n",
    "    print(f'Note: {n_lti=}, skipping execution\\n')\n",
    "    # stop, or return to calling notebook/script\n",
    "    assert(False)\n",
    "\n",
    "if not telescope:\n",
    "    telescope = p['telescop']\n",
    "    \n",
    "f_min_MHz = p['f_min_MHz']\n",
    "f_max_MHz = p['f_max_MHz']\n",
    "t_obs = p['t_obs']\n",
    "    "
   ]
  },
  {
   "cell_type": "code",
   "execution_count": 10,
   "metadata": {},
   "outputs": [
    {
     "name": "stdout",
     "output_type": "stream",
     "text": [
      "raw_file_name='/mnt/d/data_files/raw_voyager/blc3_guppi_57386_VOYAGER1_0004.0000.raw' found, n_blocks_incr=128, n_blocks=128\n",
      "raw_file_name='/mnt/d/data_files/raw_voyager/blc3_guppi_57386_VOYAGER1_0004.0001.raw' not found, n_raw_files=1, Total blocks=128\n",
      "raw_file_base_name = '/mnt/d/data_files/raw_voyager/blc3_guppi_57386_VOYAGER1_0004.0000.raw'\n",
      "Raw file found\n",
      "Raw File size =  16145 MB, n_raw_files = 1\n",
      "expected_file_size = 16144.0 MB excl header\n",
      "\n",
      "GBT     , Wed Dec 30 15:45:27 2015, mjd_day=57386, VOYAGER1, ra_deg = 257.995, dec_deg = 11.949\n",
      "ctr_freq_MHz = 8493.750, obs_bw_MHz = 187.5, f_min_MHz = 8400.000, f_max_MHz = 8587.500\n",
      "\n",
      "t_obs = 21.475, n_antennas = 1, n_coarse_channels = 64, n_pols = 2, n_bits = 8, chan_bw = 2929687.500\n",
      "fs_coarse = 2929687.500, fine_fft_size = 1048576, n_sti = 4, n_lti = 15.0, n_avg = 60.0\n",
      "t_coarse = 3.413e-07, t_fine = 0.358, t_res = 1.432\n",
      "fs_coarse = 2929687.500, fs_fine = 2.794\n",
      "n_coarse_samples = 66125824.0, n_fine_samples = 63.0625\n",
      "samples_per_block = 516608.0, n_blocks = 128, n_blocks_base = 128, block_size = 132251648, obs_time_per_block = 0.168\n",
      "\n"
     ]
    },
    {
     "data": {
      "text/plain": [
       "{'raw_file_stem': 'blc3_guppi_57386_VOYAGER1_0004',\n",
       " 'raw_size_MB': 16144.78125,\n",
       " 'n_raw_files': 1,\n",
       " 'telescop': 'GBT     ',\n",
       " 'time_string': 'Wed Dec 30 15:45:27 2015',\n",
       " 'mjd_day': 57386,\n",
       " 'src_name': 'VOYAGER1',\n",
       " 'ra_deg': 257.9947,\n",
       " 'dec_deg': 11.9493,\n",
       " 'ctr_freq_MHz': 8493.75,\n",
       " 'obs_bw_MHz': 187.5,\n",
       " 'obs_bw_sign': 1,\n",
       " 'f_min_MHz': 8400.0,\n",
       " 'f_max_MHz': 8587.5,\n",
       " 't_obs': 21.47483647997903,\n",
       " 'n_antennas': 1,\n",
       " 'n_coarse_channels': 64,\n",
       " 'n_pols': 2,\n",
       " 'n_bits': 8,\n",
       " 'chan_bw': 2929687.5,\n",
       " 'fs_coarse': 2929687.500002861,\n",
       " 'fine_fft_size': 1048576,\n",
       " 'n_sti': 4,\n",
       " 'n_lti': 15.0,\n",
       " 'n_avg': 60.0,\n",
       " 't_coarse': 3.41333333333e-07,\n",
       " 't_fine': 0.3579139413329838,\n",
       " 't_res': 1.4316557653319353,\n",
       " 'n_coarse_samples': 66125824.0,\n",
       " 'n_fine_samples': 63.0625,\n",
       " 'fs_fine': 2.793967723849164,\n",
       " 'samples_per_block': 516608.0,\n",
       " 'n_blocks': 128,\n",
       " 'n_blocks_base': 128,\n",
       " 'block_size': 132251648,\n",
       " 'obs_time_per_block': 0.16777215999983616,\n",
       " 'raw_dir': '/mnt/d/data_files/raw_voyager/'}"
      ]
     },
     "execution_count": 10,
     "metadata": {},
     "output_type": "execute_result"
    }
   ],
   "source": [
    "p = raw.get_run_params(raw_file_stem,raw_dir,1024*1024,n_sti)\n",
    "p"
   ]
  },
  {
   "cell_type": "code",
   "execution_count": 11,
   "metadata": {},
   "outputs": [
    {
     "name": "stdout",
     "output_type": "stream",
     "text": [
      "signal_level=0.0000, Input SNR=-inf Coarse SNR=-inf Fine SNR=-inf Det SNR=-inf dB\n",
      "signal_level=0.0000, Est SNR=-inf, Reference SNR=-inf dB\n",
      "f_start_truth =  [nan nan]  MHz\n",
      "drift_rate_truth =  [-10.  10.]  Hz/sec\n",
      "Fine FFT Size=1009K, Nsti=4, Nlti=16  sc2 \n",
      " FineFFT-1009K-Nsti-04\n",
      "fig_name_base = 'blc3_guppi_57386_VOYAGER1_0004-FineFFT-1009K-Nsti-04'\n",
      "figure freq limits MHz:  [8400.0, 8587.5]\n"
     ]
    },
    {
     "name": "stderr",
     "output_type": "stream",
     "text": [
      "/tmp/ipykernel_2127739/3339333597.py:2: RuntimeWarning: divide by zero encountered in log10\n",
      "  snr_input_db = 10*np.log10(signal_level**2 /2)  # 1/2 2 pols\n"
     ]
    }
   ],
   "source": [
    "n_coarse_channels = p['n_coarse_channels']\n",
    "snr_input_db = 10*np.log10(signal_level**2 /2)  # 1/2 2 pols\n",
    "snr_coarse_db = snr_input_db + 10*np.log10(n_coarse_channels)\n",
    "snr_fine_db = snr_coarse_db + 10*np.log10(fine_fft_size)\n",
    "snr_det_db = snr_fine_db + 5*np.log10(n_avg)\n",
    "\n",
    "print('signal_level={0:6.4f}, Input SNR={1:4.2f} Coarse SNR={2:4.2f} Fine SNR={3:4.2f} Det SNR={4:4.2f} dB'.format(\\\n",
    "        signal_level,snr_input_db,snr_coarse_db,snr_fine_db,snr_det_db))\n",
    "\n",
    "ref_snr_db = snr_det_db\n",
    "print('signal_level={0:6.4f}, Est SNR={1:4.2f}, Reference SNR={2:4.2f} dB'.format(signal_level,snr_det_db,ref_snr_db))\n",
    "\n",
    "if verbose:\n",
    "    print('f_start_truth = ',f_start_truth*1e-6,' MHz')\n",
    "    print('drift_rate_truth = ',drift_rate_truth,' Hz/sec')\n",
    "\n",
    "# open directory for figures if necessary\n",
    "if not os.path.isdir(fig_dir[0:-1]):\n",
    "    os.system('mkdir '+fig_dir[0:-1])\n",
    "# empty old figures\n",
    "\n",
    "config_str = 'Fine FFT Size=%.0fK, Nsti=%d, Nlti=%.0f  %s'%(fine_fft_size/1024,n_sti,n_lti,test_case)\n",
    "config_str2 = 'FineFFT-%.0fK-Nsti-%02d'%(fine_fft_size/1024,n_sti)\n",
    "if verbose:print(config_str,'\\n',config_str2)\n",
    "fig_name_base = raw_file_stem + '-' + config_str2\n",
    "if verbose: print(f'{fig_name_base = }')\n",
    "\n",
    "if math.isnan(f_start1_MHz):\n",
    "    fig_df = p['obs_bw_MHz']*1e6\n",
    "    fig_f_limits_MHz = [f_min_MHz,f_max_MHz]\n",
    "    f_start1_MHz = f_min_MHz\n",
    "    f_stop1_MHz = f_max_MHz\n",
    "else:\n",
    "    fig_df = (np.amax(f_start_truth)*1e-6 - np.amin(f_start_truth)*1e-6)*.25\n",
    "    fig_f_limits_MHz = [np.amin(f_start_truth)*1e-6 - fig_df,np.amax(f_start_truth)*1e-6 + fig_df]\n",
    "if verbose: print(\"figure freq limits MHz: \",fig_f_limits_MHz)"
   ]
  },
  {
   "cell_type": "markdown",
   "metadata": {},
   "source": [
    "#### Generate spectrogram file using rawspec"
   ]
  },
  {
   "cell_type": "code",
   "execution_count": 12,
   "metadata": {},
   "outputs": [
    {
     "name": "stdout",
     "output_type": "stream",
     "text": [
      "rawspec -f 1033216 -t 4 -j /mnt/d/data_files/raw_voyager/blc3_guppi_57386_VOYAGER1_0004 -d /home/kmh4005/data_files/sg_det_files/\n",
      "\n",
      "rawspec 3.1.1+12@gaf37c70-dirty using librawspec 3.1.1+12@gaf37c70-dirty and cuFFT 11.0.12.1\n",
      "writing output files in FBH5 format\n",
      "working stem: /mnt/d/data_files/raw_voyager/blc3_guppi_57386_VOYAGER1_0004\n",
      "opening file: /mnt/d/data_files/raw_voyager/blc3_guppi_57386_VOYAGER1_0004.0000.raw\n",
      "Number of spectra per dump (Nd) = 1\n",
      "Number of fine channels per coarse channel (nfpc) = 1033216\n",
      "Chunk dimensions = (1, 1, 1033216)\n",
      "Cache nslots = 1033217, nbytes = 264503297\n",
      "opening file: /mnt/d/data_files/raw_voyager/blc3_guppi_57386_VOYAGER1_0004.0001.raw [No such file or directory]\n",
      "output product 0: 16 spectra\n",
      "\n",
      "Rawspec 96.61 sec 1.51 sec/coarse channel\n",
      "raw File size =  16145 MB x 1,    252 MB per Coarse Channel\n"
     ]
    }
   ],
   "source": [
    "if (fb_ext == '.h5'):\n",
    "    raw_call_string = f'rawspec -f {fine_fft_size} -t {n_sti} -j ' + raw_dir + raw_file_stem + ' -d ' + sg_dir\n",
    "    # raw_call_string = f'rawspec -f {fine_fft_size} -t {n_sti} -s 3 -n 1 -j ' + raw_dir + raw_file_stem\n",
    "elif (fb_ext == '.fil'):\n",
    "    raw_call_string = f'rawspec -f {fine_fft_size} -t {n_sti} -j ' + raw_dir + raw_file_stem + ' -d ' + sg_dir\n",
    "if verbose: print(raw_call_string + '\\n')\n",
    "t1 = time.time()\n",
    "os.system(raw_call_string)\n",
    "t_rawspec0 = time.time() - t1\n",
    "t_rawspec = t_rawspec0/n_coarse_channels\n",
    "print(f'\\nRawspec {t_rawspec0:.2f} sec {t_rawspec:.2f} sec/coarse channel')\n",
    "\n",
    "file_stats = os.stat(raw_file_base_name)\n",
    "raw_size_MB = file_stats.st_size/1024/1024\n",
    "raw_size_MB_per_chnl = raw_size_MB/n_coarse_channels\n",
    "if verbose: print(f'raw File size = {raw_size_MB:6.0f} MB x {p[\"n_raw_files\"]}, {raw_size_MB_per_chnl:6.0f} MB per Coarse Channel')\n"
   ]
  },
  {
   "cell_type": "markdown",
   "metadata": {},
   "source": [
    "#### Augment file name of filterbank h5/fil file to include parameters (fft, n_sti)\n",
    "Move to output_dir if required"
   ]
  },
  {
   "cell_type": "code",
   "execution_count": 13,
   "metadata": {},
   "outputs": [
    {
     "name": "stdout",
     "output_type": "stream",
     "text": [
      "/home/kmh4005/data_files/sg_det_files/blc3_guppi_57386_VOYAGER1_0004.*.h5\n",
      "h5_name_list=\n",
      "['/home/kmh4005/data_files/sg_det_files/blc3_guppi_57386_VOYAGER1_0004.rawspec.0000.h5']\n",
      "new_h5_name = '/home/kmh4005/data_files/sg_det_files/blc3_guppi_57386_VOYAGER1_0004.rawspec.0000.h5'\n",
      "base_h5_name = '/home/kmh4005/data_files/sg_det_files/blc3_guppi_57386_VOYAGER1_0004.rawspec.0000.h5'\n",
      "base_dat_name = '/home/kmh4005/data_files/sg_det_files/blc3_guppi_57386_VOYAGER1_0004.rawspec.0000.dat'\n",
      "/home/kmh4005/data_files/sg_det_files/blc3_guppi_57386_VOYAGER1_0004.rawspec.0000.h5\n",
      "H5 File size =   3255 MB     51 MB per Coarse Channel\n"
     ]
    }
   ],
   "source": [
    "import glob\n",
    "import os\n",
    "h5_name_list = glob.glob(sg_dir + raw_file_stem + '.*' + fb_ext)\n",
    "print(sg_dir + raw_file_stem + '.*' + fb_ext)\n",
    "print('h5_name_list=')\n",
    "print(f'{h5_name_list}')\n",
    "\n",
    "for i_name, h5_name in enumerate(h5_name_list):\n",
    "    if (1):\n",
    "        #use the same name to avoid excessive disk storage space (same file overwritten many times)\n",
    "        new_h5_name = h5_name\n",
    "    else:\n",
    "        h5_parts = h5_name.split('.rawspec')\n",
    "        print(f'{h5_parts = }')\n",
    "        new_h5_name = h5_parts[0] + '-fft%.0fK-int%02d'%(fine_fft_size/1024,n_sti) + '.rawspec' + h5_parts[1]\n",
    "        os.system('mv ' + h5_name + ' ' + new_h5_name)\n",
    "    if (i_name==0):\n",
    "        base_h5_name = new_h5_name\n",
    "    if verbose: print(f'{new_h5_name = }')\n",
    "    \n",
    "base_dat_name = base_h5_name.split(fb_ext)[0] + '.dat'\n",
    "\n",
    "if verbose:\n",
    "    print(f'{base_h5_name = }')\n",
    "    print(f'{base_dat_name = }')\n",
    "\n",
    "print(new_h5_name)\n",
    "file_stats = os.stat(new_h5_name)\n",
    "h5_size_MB = file_stats.st_size/1024/1024\n",
    "h5_size_MB_per_chnl = h5_size_MB/n_coarse_channels\n",
    "if verbose: print(f'H5 File size = {h5_size_MB:6.0f} MB {h5_size_MB_per_chnl:6.0f} MB per Coarse Channel')"
   ]
  },
  {
   "cell_type": "markdown",
   "metadata": {},
   "source": [
    "#### Plot wideband spectra as required prior to search:"
   ]
  },
  {
   "cell_type": "code",
   "execution_count": 14,
   "metadata": {},
   "outputs": [],
   "source": [
    "import src.plot_h5_psd_sg1 as plt_h5\n",
    "\n",
    "if plot_sg_wb & (h5_size_MB<3000.0):\n",
    "\n",
    "    %matplotlib inline\n",
    "\n",
    "    plt_h5.plot_h5_sg(base_h5_name,\n",
    "            fig_f_limits_MHz=fig_f_limits_MHz,\n",
    "            min_max_db=[],\n",
    "            fig_title=raw_file_stem  + ' ' + config_str,\n",
    "            display_fig=display_figs01,\n",
    "            savfig_name=fig_dir+'01-'+fig_name_base+'-sg-'+test_case+'.png')\n",
    "\n",
    "if plot_psd_wb  & (h5_size_MB<3000.0):\n",
    "\n",
    "    %matplotlib inline\n",
    "\n",
    "    plt_h5.plot_h5_psd_db_bl(base_h5_name,\n",
    "            fig_f_limits_MHz=fig_f_limits_MHz,\n",
    "            min_max_db=[],\n",
    "            fig_title=config_str,\n",
    "            fig_text_list=[[.15,.85,raw_file_stem]],\n",
    "            display_fig=display_figs01,\n",
    "            savfig_name=fig_dir+'02-'+fig_name_base+'-psd-'+test_case+'.png')\n"
   ]
  },
  {
   "cell_type": "markdown",
   "metadata": {},
   "source": [
    "#### Run turbo_seti if required"
   ]
  },
  {
   "cell_type": "code",
   "execution_count": 15,
   "metadata": {},
   "outputs": [],
   "source": [
    "if run_turbo:\n",
    "    \n",
    "    from turbo_seti.find_doppler.find_doppler import FindDoppler\n",
    "\n",
    "    # Get rid of any pre-existing output files from a prior run.\n",
    "    # for x_file in sorted(os.listdir(output_dir)):\n",
    "    #     x_type = x_file.split('.')[-1]\n",
    "    #     if x_type != 'h5':\n",
    "    #         os.remove(output_dir + x_file)\n",
    "\n",
    "    # Get ready for search by instantiating the doppler object.\n",
    "    doppler = FindDoppler(base_h5_name,\n",
    "                        max_drift = search_max_drift,\n",
    "                        min_drift = min_abs_drift_Hz_sec,\n",
    "                        snr = search_z_threshold,       \n",
    "                        out_dir = output_dir # This is where the turboSETI output files will be stored.\n",
    "                        )\n",
    "\n",
    "    t1 = time.time()\n",
    "    doppler.search()\n",
    "    t_search0 = time.time() - t1\n",
    "    t_search = t_search0/n_coarse_channels\n",
    "    print(f'\\TurboSeti Search complete {t_search0:.2f} sec {t_search:.2f} sec/coarse channel')\n",
    "\n",
    "    print(base_dat_name)\n",
    "    from turbo_seti.find_event.find_event import read_dat\n",
    "    det_list = read_dat(base_dat_name)\n",
    "    \n",
    "    det_list"
   ]
  },
  {
   "cell_type": "markdown",
   "metadata": {},
   "source": [
    "#### Run seticore to detect drifting tones and note execution time"
   ]
  },
  {
   "cell_type": "code",
   "execution_count": 16,
   "metadata": {},
   "outputs": [
    {
     "name": "stdout",
     "output_type": "stream",
     "text": [
      "seticore2 /home/kmh4005/data_files/sg_det_files/blc3_guppi_57386_VOYAGER1_0004.rawspec.0000.h5 --max_drift=10 --min_drift=0.04 --snr=20  --output=/home/kmh4005/data_files/sg_det_files/testout.dat\n"
     ]
    },
    {
     "name": "stderr",
     "output_type": "stream",
     "text": [
      "dedoppler elapsed time: 4s\n"
     ]
    }
   ],
   "source": [
    "if run_seticore:\n",
    "    seticore_str = search_app_name + ' ' + base_h5_name + \\\n",
    "        ' --max_drift='+ str(search_max_drift) + ' --min_drift=' + str(min_abs_drift_Hz_sec) + \\\n",
    "        ' --snr=' + str(search_z_threshold) + '  --output=' + output_dir + 'testout.dat'\n",
    "\n",
    "    #    | tee data/output.txt\n",
    "    if verbose: print(seticore_str)\n",
    "\n",
    "    t1 = time.time()\n",
    "    if do_profile:\n",
    "        os.system('nsys profile ' + seticore_str + ' > seticore_text.out')\n",
    "    else:\n",
    "        # os.system(seticore_str)\n",
    "        os.system(seticore_str+ ' > seticore_text.out')\n",
    "\n",
    "    t_search0 = time.time() - t1\n",
    "    t_search = t_search0/p['n_coarse_channels']\n",
    "    \n",
    "    from turbo_seti.find_event.find_event import read_dat\n",
    "    det_list = read_dat(output_dir + 'testout.dat')\n",
    "    det_list\n"
   ]
  },
  {
   "cell_type": "code",
   "execution_count": 17,
   "metadata": {},
   "outputs": [],
   "source": [
    "# sys.path.append(os.getenv('SETICORE_PY_PATH'))\n",
    "# import viewer\n",
    "# import numpy as np\n",
    "# events = list(viewer.read_events(output_dir + 'testout.hits'))"
   ]
  },
  {
   "cell_type": "code",
   "execution_count": 18,
   "metadata": {},
   "outputs": [
    {
     "name": "stdout",
     "output_type": "stream",
     "text": [
      "E(SNR)    nan dB\n",
      "1 SNR 17.56 dB, 8568.771 MHz, 0.134 Hz/sec\n",
      "\n"
     ]
    }
   ],
   "source": [
    "t_total = t_rawspec + t_search\n",
    "det_f_start_MHz = det_list.values[:,5]\n",
    "det_drift_rate = det_list.values[:,1]\n",
    "det_snr_db = db(det_list.values[:,2])\n",
    "n_det = len(det_snr_db)\n",
    "\n",
    "if isChirp:\n",
    "    ii = np.nonzero(np.abs(det_drift_rate)>df_dt_incr/2)\n",
    "    det_snr_db_wavg = wt_avg(det_snr_db[ii],det_drift_rate[ii],sigma_drift)\n",
    "else:\n",
    "    det_snr_db_wavg = np.array(np.nan)\n",
    "\n",
    "snr_string = 'E(SNR)    ' + np.array2string(det_snr_db_wavg,precision=2) + ' dB'\n",
    "\n",
    "if verbose: print(snr_string)\n",
    "\n",
    "det_string_list = []\n",
    "det_string_ext = ''\n",
    "for i_det in range(n_det):\n",
    "    det_string1 = f'{i_det+1} SNR {det_snr_db[i_det]:.2f} dB, {det_f_start_MHz[i_det]:.3f} MHz, {det_drift_rate[i_det]:.3f} Hz/sec'\n",
    "    det_string_list.append(det_string1)\n",
    "    det_string_ext = det_string_ext + det_string1+'\\n'\n",
    "# print(det_string_list) \n",
    "if verbose: print(det_string_ext)                "
   ]
  },
  {
   "cell_type": "markdown",
   "metadata": {},
   "source": [
    "#### Zoom plots near center of detected frequencies"
   ]
  },
  {
   "cell_type": "code",
   "execution_count": null,
   "metadata": {},
   "outputs": [
    {
     "data": {
      "image/png": "[encoded data removed]",
      "text/plain": [
       "<Figure size 1000x600 with 2 Axes>"
      ]
     },
     "metadata": {},
     "output_type": "display_data"
    }
   ],
   "source": [
    "if (n_det>0):\n",
    "\n",
    "        import src.plot_h5_psd_sg1 as plt_h5\n",
    "        %matplotlib inline\n",
    "\n",
    "        for i_det in range(min(n_det,max_n_zoom_plots)):\n",
    "                \n",
    "                zoom_f_limits_MHz=np.add(det_f_start_MHz[i_det],[-zoom_bw_MHz/2,zoom_bw_MHz/2])\n",
    "                        \n",
    "                display_fig = n_det<3\n",
    "                if plot_sg_psd_zoom:\n",
    "                        plt_h5.plot_h5_sg_psd(base_h5_name,\n",
    "                                fig_f_limits_MHz=zoom_f_limits_MHz,\n",
    "                                min_max_db=[],\n",
    "                                rel_freq = False,\n",
    "                                fig_title=config_str + f', Det {i_det+1} of {n_det}',\n",
    "                                fig_text_list=[[.15,.85,raw_file_stem],[.15,.80,det_string_list[i_det]]],\n",
    "                                display_fig=display_fig,\n",
    "                                savfig_name=fig_dir+'03-'+fig_name_base+'-sg-psd-det-'+f'{i_det:02d}-'+test_case+'.png')\n",
    "\n",
    "                if plot_psd_zoom:\n",
    "                        plt_h5.plot_h5_psd_db(base_h5_name,\n",
    "                                fig_f_limits_MHz=zoom_f_limits_MHz,\n",
    "                                min_max_db=[],\n",
    "                                rel_freq = False,\n",
    "                                fig_title=config_str + f', Det {i_det+1} of {n_det}',\n",
    "                                fig_text_list=[[.15,.85,raw_file_stem],[.15,.80,det_string_list[i_det]]],\n",
    "                                display_fig=display_figs01,\n",
    "                                savfig_name=fig_dir+'04-'+fig_name_base+'-psd-det-'+f'{i_det:02d}-'+test_case+'.png')\n",
    "                \n",
    "                if plot_sg_zoom:\n",
    "                       plt_h5.plot_h5_sg(base_h5_name,\n",
    "                                fig_f_limits_MHz=zoom_f_limits_MHz,\n",
    "                                min_max_db=[],\n",
    "                                fig_title=raw_file_stem  + '\\n' + config_str + f', Det {i_det+1} of {n_det}',\n",
    "                                display_fig=display_figs01,\n",
    "                                savfig_name=fig_dir+'05-'+fig_name_base+'-sg-det-'+f'{i_det:02d}-'+test_case+'.png')\n",
    "\n",
    "        \n",
    "                "
   ]
  },
  {
   "cell_type": "markdown",
   "metadata": {},
   "source": [
    "### Plot detection results"
   ]
  },
  {
   "cell_type": "code",
   "execution_count": 20,
   "metadata": {},
   "outputs": [
    {
     "data": {
      "text/plain": [
       "'GBT     '"
      ]
     },
     "execution_count": 20,
     "metadata": {},
     "output_type": "execute_result"
    }
   ],
   "source": [
    "telescope"
   ]
  },
  {
   "cell_type": "code",
   "execution_count": 21,
   "metadata": {},
   "outputs": [
    {
     "data": {
      "image/png": "[encoded data removed]",
      "text/plain": [
       "<Figure size 1000x600 with 2 Axes>"
      ]
     },
     "metadata": {},
     "output_type": "display_data"
    }
   ],
   "source": [
    "if (plot_dets1):\n",
    "    %matplotlib inline\n",
    "    fig = plt.figure(figsize=(10, 6))\n",
    "    plt.subplot(2,1,1)\n",
    "\n",
    "    if isChirp: plt.plot(f_start_truth*1e-6 , drift_rate_truth,'*',label='Reference')\n",
    "    plt.plot(det_f_start_MHz , det_drift_rate,'g*',label=search_app_string)\n",
    "    plt.title(telescope.upper() + ' '+search_app_string+' Drifting Tone Detections, ' + config_str)\n",
    "\n",
    "    if isChirp: \n",
    "        print(np.array2string(det_snr_db_wavg,precision=2))\n",
    "        print('E(SNR)    '+ np.array2string(det_snr_db_wavg,precision=2) + ' dB')\n",
    "    \n",
    "    plt.xlim(fig_f_limits_MHz[0],fig_f_limits_MHz[1])\n",
    "    plt.ylim(search_min_drift-1,search_max_drift+1)\n",
    "    #plt.xlabel('Frequency (MHz)')\n",
    "    plt.ylabel('Drift Rate (Hz/sec)')\n",
    "    plt.figtext(.15,.85,raw_file_stem)\n",
    "    plt.figtext(.15,.82,f'{f_min_MHz:.0f}-{f_max_MHz:.0f} MHz, {search_min_drift:.0f}->{search_max_drift:.0f} Hz/sec, {t_obs:.1f} sec')\n",
    "    plt.figtext(.15,.79,f'raw {raw_size_MB:3.0f} MB x {p[\"n_raw_files\"]}, h5 {h5_size_MB:3.0f} MB, {n_coarse_channels} Coarse Chnl, {n_det} Hits')\n",
    "    plt.figtext(.15,.75,f'Rawspec {t_rawspec:5.2f} sec/Coarse Chnl')\n",
    "    plt.figtext(.15,.72,f'Search    {t_search:5.2f} sec')\n",
    "    plt.figtext(.15,.69,f'Total       {t_total:5.2f} sec')\n",
    "    if isChirp: \n",
    "        plt.figtext(.15,.65,snr_string)\n",
    "        plt.legend(loc='lower right')\n",
    "    plt.grid()                        \n",
    "    \n",
    "    plt.subplot(2,1,2)\n",
    "    \n",
    "    plt.plot(det_f_start_MHz , det_snr_db,'g*',label=search_app_string)\n",
    "\n",
    "    plt.xlim(fig_f_limits_MHz[0],fig_f_limits_MHz[1])\n",
    "    plt.ylim(5., np.amax((40.,5.*np.ceil(ref_snr_db/5)+5.)))\n",
    "    plt.xlabel('Frequency (MHz)')\n",
    "    plt.ylabel('SNR(dB)')\n",
    "    if isChirp: \n",
    "        plt.legend(loc='lower right')\n",
    "    else:\n",
    "        if n_det<10:\n",
    "            plt.figtext(.15,.40-(n_det-1)*.025,det_string_ext)\n",
    "    \n",
    "    plt.grid()\n",
    "\n",
    "    plt.savefig(fig_dir+'06-' + fig_name_base+'-'+search_app_string.lower()+'-det-'+test_case+'.png',bbox_inches='tight')\n",
    "\n",
    "    if display_figs01:\n",
    "        plt.show()\n",
    "    else:\n",
    "        plt.close(fig)\n"
   ]
  },
  {
   "cell_type": "code",
   "execution_count": 22,
   "metadata": {},
   "outputs": [],
   "source": [
    "\n",
    "if False & plot_dets2 & isChirp:\n",
    "        \n",
    "        pltg.plot_generic(x_data=[drift_rate_truth,det_drift_rate],\n",
    "                y_data=[ref_snr_db*np.ones(np.size(drift_rate_truth)),det_snr_db],\n",
    "                xy_markers = ['-','r*'],\n",
    "                xy_legend = ['Reference','Seticore'],\n",
    "                x_limits=[sig_min_drift-1,sig_max_drift+1],\n",
    "                y_limits=[5., np.amax((45.,5.*np.ceil(ref_snr_db/5)+5.))],\n",
    "                x_label = 'Drift Rate (Hz/sec)',\n",
    "                y_label = 'SNR(dB)',\n",
    "                fig_title= telescope.upper() + ' '+search_app_string+' Drifting Tone Detections, ' + config_str,\n",
    "                fig_text_list=[[.15,.85,raw_file_stem],\n",
    "                                [.15,.82,f'raw {raw_size_MB:3.0f} MB x {p[\"n_raw_files\"]}, h5 {h5_size_MB:3.0f} MB, {n_coarse_channels} Coarse Chnl, {n_det} Hits'],\n",
    "                                [.15,.78,f'Rawspec {t_rawspec:5.2f} sec/Coarse Chnl'],\n",
    "                                [.15,.75,f'Search    {t_search:5.2f} sec'], \n",
    "                                [.15,.72,f'Total       {t_total:5.2f} sec'],\n",
    "                                [.15,.68,snr_string]],\n",
    "                legend_loc = 'lower right',\n",
    "                display_fig=display_figs01,\n",
    "                savfig_name=fig_dir+'07-' + fig_name_base+'-'+search_app_string.lower()+'-det-'+test_case+'.png')\n",
    "\n",
    "if plot_dets2 & isChirp:\n",
    "        prob_weight = 30*np.exp(-np.square(np.outer(drift_rate_truth,np.reciprocal(sigma_drift)))/2.)\n",
    "        prob_legend = ['']*len(sigma_drift)\n",
    "        for i_cfreq,cfreq in enumerate(f_sigma_drift):\n",
    "                prob_legend[i_cfreq] = f'Prob Weight {cfreq*1e-9:.1f} GHz'\n",
    "\n",
    "        pltg.plot_generic(x_data=[drift_rate_truth,det_drift_rate,drift_rate_truth],\n",
    "                y_data=[ref_snr_db*np.ones(np.size(drift_rate_truth)),det_snr_db,prob_weight],\n",
    "                xy_markers = ['-','r*','--'],\n",
    "                xy_legend = ['Reference',search_app_string,prob_legend],\n",
    "                x_limits=[sig_min_drift-1,sig_max_drift+1],\n",
    "                y_limits=[0., np.amax((40.,5.*np.ceil(ref_snr_db/5)+5.))],\n",
    "                x_label = 'Drift Rate (Hz/sec)',\n",
    "                y_label = 'SNR(dB)',\n",
    "                fig_title= telescope.upper() + ' '+search_app_string+' Drifting Tone Detections, ' + config_str,\n",
    "                fig_text_list=[[.15,.85,raw_file_stem],\n",
    "                                [.15,.82,f'raw {raw_size_MB:3.0f} MB x {p[\"n_raw_files\"]}, h5 {h5_size_MB:3.0f} MB, {n_coarse_channels} Coarse Chnl, {n_det} Hits'],\n",
    "                                [.15,.78,f'Rawspec {t_rawspec:5.2f} sec/Coarse Chnl'],\n",
    "                                [.15,.75,f'Search    {t_search:5.2f} sec'], \n",
    "                                [.15,.72,f'Total       {t_total:5.2f} sec'],\n",
    "                                [.15,.68,snr_string]],\n",
    "                legend_loc = 'upper right',\n",
    "                display_fig=display_figs01,\n",
    "                savfig_name=fig_dir+'08-' + fig_name_base+'-'+search_app_string.lower()+'-det-'+test_case+'.png')\n",
    "\n",
    "\n"
   ]
  },
  {
   "cell_type": "code",
   "execution_count": 23,
   "metadata": {},
   "outputs": [
    {
     "name": "stdout",
     "output_type": "stream",
     "text": [
      "SETI end-to-end completed, 102.77 sec\n",
      "\n"
     ]
    }
   ],
   "source": [
    "t_e2e = time.time() - t_e2e_start\n",
    "print(f'SETI end-to-end completed, {t_e2e:.2f} sec\\n')"
   ]
  },
  {
   "cell_type": "markdown",
   "metadata": {},
   "source": [
    "#### Delete spectrogram and raw files as needed"
   ]
  },
  {
   "cell_type": "code",
   "execution_count": 24,
   "metadata": {},
   "outputs": [
    {
     "name": "stdout",
     "output_type": "stream",
     "text": [
      "h5 sg file deleted\n",
      "/home/kmh4005/data_files/sg_det_files/blc3_guppi_57386_VOYAGER1_0004.rawspec.0000.h5\n",
      "\n"
     ]
    }
   ],
   "source": [
    "if delete_h5_sg_file:\n",
    "    os.system('rm '+f'{new_h5_name}')\n",
    "    print(f'h5 sg file deleted\\n{new_h5_name}\\n')\n",
    "    \n",
    "if delete_raw_file:\n",
    "    os.system('rm '+f'{raw_file_delete_spec}')\n",
    "    print(f'raw file(s) deleted\\n{raw_file_delete_spec}\\n')\n"
   ]
  },
  {
   "cell_type": "code",
   "execution_count": 25,
   "metadata": {},
   "outputs": [],
   "source": [
    "# os.system(\"echo -ne '\\007'\")\n",
    "# os.system(\"echo -ne '\\a'\")\n",
    "# os.system(\"tput bel\")\n",
    "# print(\"\\007\")\n"
   ]
  },
  {
   "cell_type": "code",
   "execution_count": 26,
   "metadata": {},
   "outputs": [
    {
     "data": {
      "text/plain": [
       "0"
      ]
     },
     "execution_count": 26,
     "metadata": {},
     "output_type": "execute_result"
    }
   ],
   "source": [
    "# Beep in WSL\n",
    "os.system(\"powershell.exe '[console]::beep(261.6,700)'\")"
   ]
  }
 ],
 "metadata": {
  "kernelspec": {
   "display_name": "Python 3",
   "language": "python",
   "name": "python3"
  },
  "language_info": {
   "codemirror_mode": {
    "name": "ipython",
    "version": 3
   },
   "file_extension": ".py",
   "mimetype": "text/x-python",
   "name": "python",
   "nbconvert_exporter": "python",
   "pygments_lexer": "ipython3",
   "version": "3.10.12"
  }
 },
 "nbformat": 4,
 "nbformat_minor": 4
}
