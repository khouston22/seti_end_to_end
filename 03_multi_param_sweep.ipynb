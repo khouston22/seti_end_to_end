{
 "cells": [
  {
   "cell_type": "markdown",
   "metadata": {},
   "source": [
    "## Evaluating SETI detection performance - parameter sweeps over multiple raw chirp files\n",
    "This notebook sequences through multiple special-purpose RAW test files, which have a large number of \n",
    "chirp signals covering a wide range of drift rates.\n",
    "\n",
    "For each test file, notebook \"02_seti_param_sweep.ipynb\" is called to examine detection performance over sweeps averaging parameters.  \n",
    "\"02_seti_param_sweep.ipynb\" performs the following:\n",
    "1) Inputs each RAW file \n",
    "2) Runs Rawspec to generate a filterbank .h5 spectrogram file with specified fine FFT size and integration factor n_sti\n",
    "3) Runs TurboSETI and/or seticore and compiles a list of detections and compute time (wall clock)\n",
    "4) Repeats the end-to-end runs over a range of specified fine FFT size and integration factor n_sti\n",
    "\n",
    "Note that these sweeps can be done with various branches of seticore or seticore2 and detection SNR or timing comparisons\n",
    "can be made between branches over multiple runs of this notebook.  For each run of this notebook, \n",
    "the desired seticore branch needs to be checked out and compiled, and \n",
    "the string \"test_case\" needs to be set in 01_seti_end_to_end.ipynb to indicate the branch.\n",
    "\n",
    "The raw files are copied locally from bulk storage if needed. If local space is limited, raw files may be optionally deleted after each run \n",
    "of this notebook. \n",
    "\n",
    "Plots are generated in each \"02_seti_param_sweep.ipynb\" call.  Additional multi-run plots can be done in notebook \"04_multi_param_sweep_plot.ipynb\"."
   ]
  },
  {
   "cell_type": "code",
   "execution_count": null,
   "metadata": {},
   "outputs": [],
   "source": [
    "%load_ext autoreload\n",
    "%autoreload 2\n",
    "\n",
    "raw_files_are_undefined = False\n",
    "\n",
    "delete_raw_file_after_use = True\n",
    "\n",
    "raw_backup_subdir = 'raw_multichirp/'\n",
    "if (1):\n",
    "    raw_file_stem_list = [\n",
    "        'gbt-chirp80-0.0020V-6002.20-6003.80-m10.0-10.0-Hzsec-22.91sec',\n",
    "        'gbt-chirp80-0.0020V-6002.20-6003.80-m10.0-10.0-Hzsec-45.81sec',\n",
    "        'gbt-chirp80-0.0020V-6002.20-6003.80-m10.0-10.0-Hzsec-91.63sec']\n",
    "    if (1): raw_file_stem_list.append('gbt-chirp80-0.0020V-6002.20-6003.80-m10.0-10.0-Hzsec-183.25sec')\n",
    "    if (0): raw_file_stem_list.append('gbt-chirp80-0.0020V-6002.20-6003.80-m10.0-10.0-Hzsec-366.50sec')\n",
    "elif (1):\n",
    "    raw_file_stem_list = [\n",
    "        'meerkat-chirp80-0.0040V-1502.23-1502.77-m10.0-10.0-Hzsec-321.49sec',\n",
    "        'meerkat-chirp80-0.0040V-1502.30-1502.70-m10.0-10.0-Hzsec-160.75sec',\n",
    "        'meerkat-chirp80-0.0040V-1502.30-1502.70-m10.0-10.0-Hzsec-80.37sec']\n"
   ]
  },
  {
   "cell_type": "markdown",
   "metadata": {},
   "source": [
    "#### Run end-to-end test over parameter sweeps"
   ]
  },
  {
   "cell_type": "code",
   "execution_count": null,
   "metadata": {},
   "outputs": [],
   "source": [
    "n_raw_file = len(raw_file_stem_list)\n",
    "\n",
    "\n",
    "for i_raw in range(n_raw_file):\n",
    "\n",
    "    raw_file_stem = raw_file_stem_list[i_raw]\n",
    "    print(f'\\n\\nRaw file {i_raw+1} of {n_raw_file}: {raw_file_stem}\\n\\n')\n",
    "\n",
    "    try:      \n",
    "        %run ./02_seti_param_sweep.ipynb\n",
    "    except:\n",
    "        print(f'\\n\\nError Occurred for Raw file {raw_file_stem}, skip\\n\\n')\n",
    "\n",
    "    if delete_raw_file_after_use & (not local_raw_file_found):\n",
    "        # delete raw file to limit local file storage\n",
    "        try:\n",
    "            print('Deleting ',raw_file_delete_spec)\n",
    "            os.system('rm '+raw_file_delete_spec)\n",
    "        except:\n",
    "            print(' ')\n",
    "\n",
    "            "
   ]
  },
  {
   "cell_type": "code",
   "execution_count": null,
   "metadata": {},
   "outputs": [],
   "source": [
    "import os\n",
    "\n",
    "print('All Runs Done')\n",
    "\n",
    "# Beep 2 times in WSL\n",
    "os.system(\"powershell.exe '[console]::beep(261.6,700)'\")\n",
    "os.system(\"powershell.exe '[console]::beep(261.6,700)'\")\n"
   ]
  },
  {
   "cell_type": "code",
   "execution_count": null,
   "metadata": {},
   "outputs": [],
   "source": [
    "import os\n",
    "\n",
    "print('All Runs Done')\n",
    "\n",
    "# Beep 2 times\n",
    "for i_beep in range(2):\n",
    "    try:\n",
    "        # Beep in WSL\n",
    "        if os.system(\"powershell.exe '[console]::beep(261.6,700)'\") !=0:\n",
    "            raise Exception('powershell.exe not found')\n",
    "    except:\n",
    "        # linux, probably doesn't work\n",
    "        print('Beep!')\n",
    "        os.system(\"echo -ne '\\a'\")"
   ]
  }
 ],
 "metadata": {
  "kernelspec": {
   "display_name": "Python 3",
   "language": "python",
   "name": "python3"
  },
  "language_info": {
   "codemirror_mode": {
    "name": "ipython",
    "version": 3
   },
   "file_extension": ".py",
   "mimetype": "text/x-python",
   "name": "python",
   "nbconvert_exporter": "python",
   "pygments_lexer": "ipython3",
   "version": "3.12.3"
  }
 },
 "nbformat": 4,
 "nbformat_minor": 4
}
